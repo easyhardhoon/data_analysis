{
  "nbformat": 4,
  "nbformat_minor": 0,
  "metadata": {
    "colab": {
      "name": "DA4.ipynb",
      "provenance": [],
      "collapsed_sections": [],
      "authorship_tag": "ABX9TyNMF8OZPkXHtg//h6kysb8r",
      "include_colab_link": true
    },
    "kernelspec": {
      "name": "python3",
      "display_name": "Python 3"
    },
    "language_info": {
      "name": "python"
    }
  },
  "cells": [
    {
      "cell_type": "markdown",
      "metadata": {
        "id": "view-in-github",
        "colab_type": "text"
      },
      "source": [
        "<a href=\"https://colab.research.google.com/github/easyhardhoon/data_analysis_with_stats/blob/main/DA4.ipynb\" target=\"_parent\"><img src=\"https://colab.research.google.com/assets/colab-badge.svg\" alt=\"Open In Colab\"/></a>"
      ]
    },
    {
      "cell_type": "markdown",
      "source": [
        "#데이터 시각화(2)"
      ],
      "metadata": {
        "id": "3gSVeCx0muQT"
      }
    },
    {
      "cell_type": "markdown",
      "source": [
        "**1. Series**"
      ],
      "metadata": {
        "id": "Z_sf9NVQm2Mt"
      }
    },
    {
      "cell_type": "code",
      "execution_count": null,
      "metadata": {
        "id": "EtJdSQiwmrsi"
      },
      "outputs": [],
      "source": [
        "import pandas as pd\n",
        "import numpy as np\n",
        "from  matplotlib import pyplot as plt\n",
        "preg = pd.read_csv(\"./2002FemPreg.tsv\", sep=\"\\t\")\n",
        "live  = preg[preg.outcome == 1]"
      ]
    },
    {
      "cell_type": "markdown",
      "source": [
        "series는 다양한 요약 통계 방법들을 제공한다"
      ],
      "metadata": {
        "id": "84VwIyHjnqtQ"
      }
    },
    {
      "cell_type": "code",
      "source": [
        "mean = live.prglngth.mean()\n",
        "median = live.prglngth.median()\n",
        "var = live.prglngth.var()\n",
        "std = live.prglngth.std()\n",
        "print(f\"mean : {mean} , std : {std} \")"
      ],
      "metadata": {
        "colab": {
          "base_uri": "https://localhost:8080/"
        },
        "id": "lnl60uGNnmcK",
        "outputId": "94564468-5413-4ab0-9937-8e68c7244bd5"
      },
      "execution_count": null,
      "outputs": [
        {
          "output_type": "stream",
          "name": "stdout",
          "text": [
            "mean : 38.56055968517709 , std : 2.702343810070593 \n"
          ]
        }
      ]
    },
    {
      "cell_type": "code",
      "source": [
        "firsts = live[live.birthord==1]\n",
        "others = live[live.birthord!=1]\n",
        "firsts.prglngth.mean(),others.prglngth.mean() #tuple type"
      ],
      "metadata": {
        "colab": {
          "base_uri": "https://localhost:8080/"
        },
        "id": "WO4BfVQHo7tj",
        "outputId": "c30676bd-85ff-41d5-aa9c-d95764b98c2c"
      },
      "execution_count": null,
      "outputs": [
        {
          "output_type": "execute_result",
          "data": {
            "text/plain": [
              "(38.60095173351461, 38.52291446673706)"
            ]
          },
          "metadata": {},
          "execution_count": 10
        }
      ]
    },
    {
      "cell_type": "code",
      "source": [
        "firsts.prglngth.mean() - others.prglngth.mean()"
      ],
      "metadata": {
        "colab": {
          "base_uri": "https://localhost:8080/"
        },
        "id": "l7BKIsmppgFd",
        "outputId": "4d94b2a9-e98b-4b53-dca6-1878b76c5cc1"
      },
      "execution_count": null,
      "outputs": [
        {
          "output_type": "execute_result",
          "data": {
            "text/plain": [
              "0.07803726677754952"
            ]
          },
          "metadata": {},
          "execution_count": 11
        }
      ]
    },
    {
      "cell_type": "markdown",
      "source": [
        "✔Cohen effect size\n",
        "    \n",
        "    두 집단의 평균 차이를 표준편차로 비교하는 방법."
      ],
      "metadata": {
        "id": "rs27HsLipuCL"
      }
    },
    {
      "cell_type": "code",
      "source": [
        "def CohenEffectSize(group1, group2):\n",
        "    diff = group1.mean() - group2.mean()\n",
        "\n",
        "    var1 = group1.var()\n",
        "    var2 = group2.var()\n",
        "    n1, n2 = len(group1), len(group2)\n",
        "  \n",
        "    pooled_var = (n1 * var1 + n2 * var2) / (n1 + n2)\n",
        "    #np.sqrt(pooled_var)은 합동표준편차에 해당합니다\n",
        "    d = diff / np.sqrt(pooled_var)\n",
        "    return d"
      ],
      "metadata": {
        "id": "UicBG1PTps0-"
      },
      "execution_count": 6,
      "outputs": []
    },
    {
      "cell_type": "code",
      "source": [
        "CohenEffectSize(firsts.prglngth, others.prglngth)"
      ],
      "metadata": {
        "colab": {
          "base_uri": "https://localhost:8080/"
        },
        "id": "ckYCPEAJrccG",
        "outputId": "02328bad-b170-482e-bc1f-faced03ba068"
      },
      "execution_count": null,
      "outputs": [
        {
          "output_type": "execute_result",
          "data": {
            "text/plain": [
              "0.028879044654449883"
            ]
          },
          "metadata": {},
          "execution_count": 13
        }
      ]
    },
    {
      "cell_type": "markdown",
      "source": [
        "cohen의 값이 크지 않다. 두 집단에는 유의미한 차이가 없을 가능성이 높다는 뜻이다"
      ],
      "metadata": {
        "id": "_VLHnQ4xv4HS"
      }
    },
    {
      "cell_type": "code",
      "source": [
        "firsts.prglngth.mode() #최빈값"
      ],
      "metadata": {
        "colab": {
          "base_uri": "https://localhost:8080/"
        },
        "id": "kpjcx5v_ri0d",
        "outputId": "8e2216a5-2ab0-48d0-d35c-a73b4480306f"
      },
      "execution_count": null,
      "outputs": [
        {
          "output_type": "execute_result",
          "data": {
            "text/plain": [
              "0    39\n",
              "dtype: int64"
            ]
          },
          "metadata": {},
          "execution_count": 16
        }
      ]
    },
    {
      "cell_type": "code",
      "source": [
        "firsts.prglngth.value_counts()[firsts.prglngth.mode()] #의 count"
      ],
      "metadata": {
        "colab": {
          "base_uri": "https://localhost:8080/"
        },
        "id": "dn6OG3oir443",
        "outputId": "97aa00c0-8b74-4184-9454-7b84133feecd"
      },
      "execution_count": null,
      "outputs": [
        {
          "output_type": "execute_result",
          "data": {
            "text/plain": [
              "39    2114\n",
              "Name: prglngth, dtype: int64"
            ]
          },
          "metadata": {},
          "execution_count": 17
        }
      ]
    },
    {
      "cell_type": "markdown",
      "source": [
        "---"
      ],
      "metadata": {
        "id": "ZAfZ9lqawdun"
      }
    },
    {
      "cell_type": "code",
      "source": [
        "firsts.prglngth.value_counts().head() #실험"
      ],
      "metadata": {
        "colab": {
          "base_uri": "https://localhost:8080/"
        },
        "id": "-0VoB2J4u8sH",
        "outputId": "4f0a4a41-db60-43cf-e092-81928d38da4e"
      },
      "execution_count": null,
      "outputs": [
        {
          "output_type": "execute_result",
          "data": {
            "text/plain": [
              "39    2114\n",
              "40     536\n",
              "41     360\n",
              "38     272\n",
              "37     208\n",
              "Name: prglngth, dtype: int64"
            ]
          },
          "metadata": {},
          "execution_count": 29
        }
      ]
    },
    {
      "cell_type": "code",
      "source": [
        "firsts.prglngth.value_counts()[38] #이렇게 []안에 특정 값을 넣으면 그의 count 구해줌"
      ],
      "metadata": {
        "colab": {
          "base_uri": "https://localhost:8080/"
        },
        "id": "ntxyJI_FsfbO",
        "outputId": "ad3d1093-2ac6-4ddd-f8e5-aa6c22764187"
      },
      "execution_count": null,
      "outputs": [
        {
          "output_type": "execute_result",
          "data": {
            "text/plain": [
              "272"
            ]
          },
          "metadata": {},
          "execution_count": 27
        }
      ]
    },
    {
      "cell_type": "markdown",
      "source": [
        "---"
      ],
      "metadata": {
        "id": "d1FJTKPvwgf_"
      }
    },
    {
      "cell_type": "code",
      "source": [
        "others.prglngth.value_counts()[others.prglngth.mode()]"
      ],
      "metadata": {
        "colab": {
          "base_uri": "https://localhost:8080/"
        },
        "id": "CX0dgq67wVc6",
        "outputId": "f88bf058-6f4b-4e68-b949-15a9bc12df58"
      },
      "execution_count": null,
      "outputs": [
        {
          "output_type": "execute_result",
          "data": {
            "text/plain": [
              "39    2579\n",
              "Name: prglngth, dtype: int64"
            ]
          },
          "metadata": {},
          "execution_count": 34
        }
      ]
    },
    {
      "cell_type": "code",
      "source": [
        "print(f\"others : {others.prglngth.mean()}, firsts : {firsts.prglngth.mean()}\")"
      ],
      "metadata": {
        "colab": {
          "base_uri": "https://localhost:8080/"
        },
        "id": "LBPvnzJHuWxu",
        "outputId": "34d63d40-6bf8-4e19-8c15-069899dd3fe9"
      },
      "execution_count": null,
      "outputs": [
        {
          "output_type": "stream",
          "name": "stdout",
          "text": [
            "others : 38.52291446673706, firsts : 38.60095173351461\n"
          ]
        }
      ]
    },
    {
      "cell_type": "markdown",
      "source": [
        "이렇듯 firsts와 others의 평균 차이도 크지 않고 최빈값과 최빈값의 빈도또한 비슷함을 알 수 있다.\n",
        "\n",
        "더더욱 두 집단에는 유의미한 차이가 없을 가능성이 높다는 뜻이다\n",
        "\n",
        "이제 이 두 집단의 데이터를 pie chart로 시각화해본다"
      ],
      "metadata": {
        "id": "hOoyJrGDws0l"
      }
    },
    {
      "cell_type": "code",
      "source": [
        "#firsts\n",
        "plt.rcParams['figure.facecolor'] = 'white'\n",
        "firsts[\"prglngth\"].value_counts().plot.pie()\n",
        "plt.xlabel(\"Income code\")\n",
        "plt.ylabel(\"Frequency\")\n",
        "plt.show()\n",
        "plt.close()"
      ],
      "metadata": {
        "colab": {
          "base_uri": "https://localhost:8080/",
          "height": 262
        },
        "id": "rX2VngKMwFJQ",
        "outputId": "70fc8657-5305-42e4-fdff-586d27623014"
      },
      "execution_count": null,
      "outputs": [
        {
          "output_type": "display_data",
          "data": {
            "image/png": "[encoded data removed]",
            "text/plain": [
              "<Figure size 432x288 with 1 Axes>"
            ]
          },
          "metadata": {}
        }
      ]
    },
    {
      "cell_type": "code",
      "source": [
        "#others\n",
        "plt.rcParams['figure.facecolor'] = 'white'\n",
        "others[\"prglngth\"].value_counts().plot.pie()\n",
        "plt.xlabel(\"Income code\")\n",
        "plt.ylabel(\"Frequency\")\n",
        "plt.show()\n",
        "plt.close()"
      ],
      "metadata": {
        "colab": {
          "base_uri": "https://localhost:8080/",
          "height": 262
        },
        "id": "IlvphSvWxl7E",
        "outputId": "e61d5607-bb5d-49b3-d38f-a325bc13e2ce"
      },
      "execution_count": null,
      "outputs": [
        {
          "output_type": "display_data",
          "data": {
            "image/png": "[encoded data removed]",
            "text/plain": [
              "<Figure size 432x288 with 1 Axes>"
            ]
          },
          "metadata": {}
        }
      ]
    },
    {
      "cell_type": "markdown",
      "source": [
        "시각화를 하면 보다 쉽게 두 집단에 유의미한 차이가 없다는 것을 알 수 있다."
      ],
      "metadata": {
        "id": "6Q6uHcuwywIL"
      }
    },
    {
      "cell_type": "code",
      "source": [
        "#all\n",
        "plt.rcParams['figure.facecolor'] = 'white'\n",
        "live[\"prglngth\"].value_counts().plot.pie()\n",
        "plt.show()\n",
        "plt.close()"
      ],
      "metadata": {
        "colab": {
          "base_uri": "https://localhost:8080/",
          "height": 248
        },
        "id": "lJqnu-qwx61P",
        "outputId": "96167508-bc89-4343-b50d-dd1bd88eacde"
      },
      "execution_count": null,
      "outputs": [
        {
          "output_type": "display_data",
          "data": {
            "image/png": "[encoded data removed]",
            "text/plain": [
              "<Figure size 432x288 with 1 Axes>"
            ]
          },
          "metadata": {}
        }
      ]
    },
    {
      "cell_type": "markdown",
      "source": [
        "▶추가 : firsts와 others의 비율은 어떻게 될까?"
      ],
      "metadata": {
        "id": "ssjeCPIuySuy"
      }
    },
    {
      "cell_type": "code",
      "source": [
        "firsts_percent = live.birthord.value_counts()[1] / live.prglngth.value_counts().sum()\n",
        "others_percent = 1- firsts_percent\n",
        "print(f\"first : {firsts_percent} , others : {others_percent} \")\n",
        "#그래도 외동의 비율이 더 적은 모습."
      ],
      "metadata": {
        "colab": {
          "base_uri": "https://localhost:8080/"
        },
        "id": "5n3ARaUuySY7",
        "outputId": "ee2421b3-a61c-4433-fd08-10f83629edee"
      },
      "execution_count": null,
      "outputs": [
        {
          "output_type": "stream",
          "name": "stdout",
          "text": [
            "first : 0.4824005247048535 , others : 0.5175994752951465 \n"
          ]
        }
      ]
    },
    {
      "cell_type": "markdown",
      "source": [
        "그래서 all pie_chart의 비율이 위와 같이 나오는 것을 확인할 수 있다."
      ],
      "metadata": {
        "id": "UINASjCm0SgG"
      }
    },
    {
      "cell_type": "markdown",
      "source": [
        "**2. Exercises**"
      ],
      "metadata": {
        "id": "RN7l-tmmw78v"
      }
    },
    {
      "cell_type": "markdown",
      "source": [
        "*totalwgt_lb*를 통해 첫 아이와 다른 아이들의 무게 차이에 대해 분석"
      ],
      "metadata": {
        "id": "C7adI9ss6n5D"
      }
    },
    {
      "cell_type": "code",
      "source": [
        "import pandas as pd\n",
        "import numpy as np\n",
        "from  matplotlib import pyplot as plt\n",
        "preg = pd.read_csv(\"./2002FemPreg.tsv\", sep=\"\\t\")\n",
        "live  = preg[preg.outcome == 1]\n",
        "firsts = live[live.birthord==1]\n",
        "others = live[live.birthord!=1]"
      ],
      "metadata": {
        "id": "2h2eauMYw7Nf"
      },
      "execution_count": 2,
      "outputs": []
    },
    {
      "cell_type": "code",
      "source": [
        "firsts.totalwgt_lb.mean() - others.totalwgt_lb.mean()"
      ],
      "metadata": {
        "colab": {
          "base_uri": "https://localhost:8080/"
        },
        "id": "PnakqPQ_6j0T",
        "outputId": "78e9c4ce-d4e1-4a44-8b10-9ac6b441b233"
      },
      "execution_count": 3,
      "outputs": [
        {
          "output_type": "execute_result",
          "data": {
            "text/plain": [
              "-0.12476118453549034"
            ]
          },
          "metadata": {},
          "execution_count": 3
        }
      ]
    },
    {
      "cell_type": "code",
      "source": [
        "CohenEffectSize(firsts.totalwgt_lb, others.totalwgt_lb)"
      ],
      "metadata": {
        "colab": {
          "base_uri": "https://localhost:8080/"
        },
        "id": "iaolQKqW7EgZ",
        "outputId": "0b650cfc-ceb4-4836-8419-74a9bb24a37e"
      },
      "execution_count": 7,
      "outputs": [
        {
          "output_type": "execute_result",
          "data": {
            "text/plain": [
              "-0.088672927072602"
            ]
          },
          "metadata": {},
          "execution_count": 7
        }
      ]
    },
    {
      "cell_type": "markdown",
      "source": [
        "새로운 데이터 셋 불러오기"
      ],
      "metadata": {
        "id": "1W6HhbO-9aOP"
      }
    },
    {
      "cell_type": "code",
      "source": [
        "resp = pd.read_csv(\"./2002FemResp.tsv\", sep=\"\\t\")"
      ],
      "metadata": {
        "id": "6QidN54Z7NUu"
      },
      "execution_count": 8,
      "outputs": []
    },
    {
      "cell_type": "code",
      "source": [
        "#totincr는 답변자 가구의 총 소득을 나타낸다.\n",
        "resp[\"totincr\"].plot.hist(bins=range(int(resp[\"totincr\"].min()), int(resp[\"totincr\"].max()+2)))\n",
        "plt.xlabel(\"Income code\")\n",
        "plt.ylabel(\"Frequency\")\n",
        "plt.show()\n",
        "plt.close()"
      ],
      "metadata": {
        "colab": {
          "base_uri": "https://localhost:8080/",
          "height": 280
        },
        "id": "okGWfv8b7vo5",
        "outputId": "5b38d28c-53de-4336-d43a-715582e86a1a"
      },
      "execution_count": 9,
      "outputs": [
        {
          "output_type": "display_data",
          "data": {
            "image/png": "[encoded data removed]",
            "text/plain": [
              "<Figure size 432x288 with 1 Axes>"
            ]
          },
          "metadata": {
            "needs_background": "light"
          }
        }
      ]
    },
    {
      "cell_type": "markdown",
      "source": [
        "✈parity 분석"
      ],
      "metadata": {
        "id": "1y9q4LYH9mLT"
      }
    },
    {
      "cell_type": "code",
      "source": [
        "#parity는 답변자의 아이 수를 나타낸다.\n",
        "resp[\"parity\"].plot.hist(bins = range(int(resp[\"parity\"].min()), int(resp[\"parity\"].max()+2)), rwidth=0.8)\n",
        "plt.xlabel(\"Number of children\")\n",
        "plt.ylabel(\"Frequency\")\n",
        "plt.show()\n",
        "plt.close()"
      ],
      "metadata": {
        "colab": {
          "base_uri": "https://localhost:8080/",
          "height": 279
        },
        "id": "DXMW3MwB8JYW",
        "outputId": "e1868e5b-7a1b-4b6b-af7a-1da1a166969a"
      },
      "execution_count": 10,
      "outputs": [
        {
          "output_type": "display_data",
          "data": {
            "image/png": "[encoded data removed]",
            "text/plain": [
              "<Figure size 432x288 with 1 Axes>"
            ]
          },
          "metadata": {
            "needs_background": "light"
          }
        }
      ]
    },
    {
      "cell_type": "code",
      "source": [
        "#outlier 찾아보기\n",
        "resp.groupby(\"parity\").count()"
      ],
      "metadata": {
        "colab": {
          "base_uri": "https://localhost:8080/",
          "height": 582
        },
        "id": "Kj6i0uqF9Hke",
        "outputId": "6c74eed9-db6c-4fa9-f08a-04c47d43b58b"
      },
      "execution_count": 11,
      "outputs": [
        {
          "output_type": "execute_result",
          "data": {
            "text/html": [
              "\n",
              "  <div id=\"df-c2c221b6-cc20-4d43-a1ce-25cdf63bd27b\">\n",
              "    <div class=\"colab-df-container\">\n",
              "      <div>\n",
              "<style scoped>\n",
              "    .dataframe tbody tr th:only-of-type {\n",
              "        vertical-align: middle;\n",
              "    }\n",
              "\n",
              "    .dataframe tbody tr th {\n",
              "        vertical-align: top;\n",
              "    }\n",
              "\n",
              "    .dataframe thead th {\n",
              "        text-align: right;\n",
              "    }\n",
              "</style>\n",
              "<table border=\"1\" class=\"dataframe\">\n",
              "  <thead>\n",
              "    <tr style=\"text-align: right;\">\n",
              "      <th></th>\n",
              "      <th>caseid</th>\n",
              "      <th>rscrinf</th>\n",
              "      <th>rdormres</th>\n",
              "      <th>rostscrn</th>\n",
              "      <th>rscreenhisp</th>\n",
              "      <th>rscreenrace</th>\n",
              "      <th>age_a</th>\n",
              "      <th>age_r</th>\n",
              "      <th>cmbirth</th>\n",
              "      <th>agescrn</th>\n",
              "      <th>marstat</th>\n",
              "      <th>fmarstat</th>\n",
              "      <th>fmarit</th>\n",
              "      <th>evrmarry</th>\n",
              "      <th>hisp</th>\n",
              "      <th>hispgrp</th>\n",
              "      <th>numrace</th>\n",
              "      <th>roscnt</th>\n",
              "      <th>hplocale</th>\n",
              "      <th>manrel</th>\n",
              "      <th>fl_rage</th>\n",
              "      <th>fl_rrace</th>\n",
              "      <th>fl_rhisp</th>\n",
              "      <th>goschol</th>\n",
              "      <th>vaca</th>\n",
              "      <th>higrade</th>\n",
              "      <th>compgrd</th>\n",
              "      <th>havedip</th>\n",
              "      <th>dipged</th>\n",
              "      <th>cmhsgrad</th>\n",
              "      <th>havedeg</th>\n",
              "      <th>degrees</th>\n",
              "      <th>wthparnw</th>\n",
              "      <th>onown</th>\n",
              "      <th>intact</th>\n",
              "      <th>parmarr</th>\n",
              "      <th>lvsit14f</th>\n",
              "      <th>lvsit14m</th>\n",
              "      <th>womrasdu</th>\n",
              "      <th>momdegre</th>\n",
              "      <th>...</th>\n",
              "      <th>fibroids</th>\n",
              "      <th>pidtreat</th>\n",
              "      <th>evhivtst</th>\n",
              "      <th>anyprghp_i</th>\n",
              "      <th>anymschp_i</th>\n",
              "      <th>infever_i</th>\n",
              "      <th>ovulate_i</th>\n",
              "      <th>tubes_i</th>\n",
              "      <th>infertr_i</th>\n",
              "      <th>inferth_i</th>\n",
              "      <th>advice_i</th>\n",
              "      <th>insem_i</th>\n",
              "      <th>invitro_i</th>\n",
              "      <th>endomet_i</th>\n",
              "      <th>fibroids_i</th>\n",
              "      <th>pidtreat_i</th>\n",
              "      <th>evhivtst_i</th>\n",
              "      <th>insuranc</th>\n",
              "      <th>metro</th>\n",
              "      <th>religion</th>\n",
              "      <th>laborfor</th>\n",
              "      <th>insuranc_i</th>\n",
              "      <th>metro_i</th>\n",
              "      <th>religion_i</th>\n",
              "      <th>laborfor_i</th>\n",
              "      <th>poverty</th>\n",
              "      <th>totincr</th>\n",
              "      <th>pubassis</th>\n",
              "      <th>poverty_i</th>\n",
              "      <th>totincr_i</th>\n",
              "      <th>pubassis_i</th>\n",
              "      <th>basewgt</th>\n",
              "      <th>adj_mod_basewgt</th>\n",
              "      <th>finalwgt</th>\n",
              "      <th>secu_r</th>\n",
              "      <th>sest</th>\n",
              "      <th>cmintvw</th>\n",
              "      <th>cmlstyr</th>\n",
              "      <th>screentime</th>\n",
              "      <th>intvlngth</th>\n",
              "    </tr>\n",
              "    <tr>\n",
              "      <th>parity</th>\n",
              "      <th></th>\n",
              "      <th></th>\n",
              "      <th></th>\n",
              "      <th></th>\n",
              "      <th></th>\n",
              "      <th></th>\n",
              "      <th></th>\n",
              "      <th></th>\n",
              "      <th></th>\n",
              "      <th></th>\n",
              "      <th></th>\n",
              "      <th></th>\n",
              "      <th></th>\n",
              "      <th></th>\n",
              "      <th></th>\n",
              "      <th></th>\n",
              "      <th></th>\n",
              "      <th></th>\n",
              "      <th></th>\n",
              "      <th></th>\n",
              "      <th></th>\n",
              "      <th></th>\n",
              "      <th></th>\n",
              "      <th></th>\n",
              "      <th></th>\n",
              "      <th></th>\n",
              "      <th></th>\n",
              "      <th></th>\n",
              "      <th></th>\n",
              "      <th></th>\n",
              "      <th></th>\n",
              "      <th></th>\n",
              "      <th></th>\n",
              "      <th></th>\n",
              "      <th></th>\n",
              "      <th></th>\n",
              "      <th></th>\n",
              "      <th></th>\n",
              "      <th></th>\n",
              "      <th></th>\n",
              "      <th></th>\n",
              "      <th></th>\n",
              "      <th></th>\n",
              "      <th></th>\n",
              "      <th></th>\n",
              "      <th></th>\n",
              "      <th></th>\n",
              "      <th></th>\n",
              "      <th></th>\n",
              "      <th></th>\n",
              "      <th></th>\n",
              "      <th></th>\n",
              "      <th></th>\n",
              "      <th></th>\n",
              "      <th></th>\n",
              "      <th></th>\n",
              "      <th></th>\n",
              "      <th></th>\n",
              "      <th></th>\n",
              "      <th></th>\n",
              "      <th></th>\n",
              "      <th></th>\n",
              "      <th></th>\n",
              "      <th></th>\n",
              "      <th></th>\n",
              "      <th></th>\n",
              "      <th></th>\n",
              "      <th></th>\n",
              "      <th></th>\n",
              "      <th></th>\n",
              "      <th></th>\n",
              "      <th></th>\n",
              "      <th></th>\n",
              "      <th></th>\n",
              "      <th></th>\n",
              "      <th></th>\n",
              "      <th></th>\n",
              "      <th></th>\n",
              "      <th></th>\n",
              "      <th></th>\n",
              "      <th></th>\n",
              "    </tr>\n",
              "  </thead>\n",
              "  <tbody>\n",
              "    <tr>\n",
              "      <th>0</th>\n",
              "      <td>3230</td>\n",
              "      <td>3230</td>\n",
              "      <td>3230</td>\n",
              "      <td>3230</td>\n",
              "      <td>3230</td>\n",
              "      <td>3229</td>\n",
              "      <td>3230</td>\n",
              "      <td>3230</td>\n",
              "      <td>3230</td>\n",
              "      <td>3230</td>\n",
              "      <td>3230</td>\n",
              "      <td>288</td>\n",
              "      <td>3230</td>\n",
              "      <td>3230</td>\n",
              "      <td>3230</td>\n",
              "      <td>509</td>\n",
              "      <td>3230</td>\n",
              "      <td>3230</td>\n",
              "      <td>887</td>\n",
              "      <td>874</td>\n",
              "      <td>3230</td>\n",
              "      <td>3230</td>\n",
              "      <td>3230</td>\n",
              "      <td>3230</td>\n",
              "      <td>1530</td>\n",
              "      <td>3230</td>\n",
              "      <td>3223</td>\n",
              "      <td>2542</td>\n",
              "      <td>2377</td>\n",
              "      <td>2258</td>\n",
              "      <td>1931</td>\n",
              "      <td>984</td>\n",
              "      <td>3230</td>\n",
              "      <td>3212</td>\n",
              "      <td>2964</td>\n",
              "      <td>3230</td>\n",
              "      <td>1170</td>\n",
              "      <td>1170</td>\n",
              "      <td>1170</td>\n",
              "      <td>3216</td>\n",
              "      <td>...</td>\n",
              "      <td>187</td>\n",
              "      <td>3230</td>\n",
              "      <td>3230</td>\n",
              "      <td>3230</td>\n",
              "      <td>3230</td>\n",
              "      <td>3230</td>\n",
              "      <td>3230</td>\n",
              "      <td>3230</td>\n",
              "      <td>3230</td>\n",
              "      <td>3230</td>\n",
              "      <td>3230</td>\n",
              "      <td>3230</td>\n",
              "      <td>3230</td>\n",
              "      <td>3230</td>\n",
              "      <td>3230</td>\n",
              "      <td>3230</td>\n",
              "      <td>3230</td>\n",
              "      <td>3230</td>\n",
              "      <td>3230</td>\n",
              "      <td>3230</td>\n",
              "      <td>3230</td>\n",
              "      <td>3230</td>\n",
              "      <td>3230</td>\n",
              "      <td>3230</td>\n",
              "      <td>3230</td>\n",
              "      <td>3230</td>\n",
              "      <td>3230</td>\n",
              "      <td>3230</td>\n",
              "      <td>3230</td>\n",
              "      <td>3230</td>\n",
              "      <td>3230</td>\n",
              "      <td>3230</td>\n",
              "      <td>3230</td>\n",
              "      <td>3230</td>\n",
              "      <td>3230</td>\n",
              "      <td>3230</td>\n",
              "      <td>3230</td>\n",
              "      <td>3230</td>\n",
              "      <td>3230</td>\n",
              "      <td>3230</td>\n",
              "    </tr>\n",
              "    <tr>\n",
              "      <th>1</th>\n",
              "      <td>1519</td>\n",
              "      <td>1519</td>\n",
              "      <td>1519</td>\n",
              "      <td>1519</td>\n",
              "      <td>1519</td>\n",
              "      <td>1517</td>\n",
              "      <td>1519</td>\n",
              "      <td>1519</td>\n",
              "      <td>1519</td>\n",
              "      <td>1519</td>\n",
              "      <td>1519</td>\n",
              "      <td>178</td>\n",
              "      <td>1519</td>\n",
              "      <td>1519</td>\n",
              "      <td>1519</td>\n",
              "      <td>314</td>\n",
              "      <td>1519</td>\n",
              "      <td>1519</td>\n",
              "      <td>930</td>\n",
              "      <td>909</td>\n",
              "      <td>1519</td>\n",
              "      <td>1519</td>\n",
              "      <td>1519</td>\n",
              "      <td>1519</td>\n",
              "      <td>218</td>\n",
              "      <td>1519</td>\n",
              "      <td>1517</td>\n",
              "      <td>1488</td>\n",
              "      <td>1289</td>\n",
              "      <td>1164</td>\n",
              "      <td>864</td>\n",
              "      <td>439</td>\n",
              "      <td>1519</td>\n",
              "      <td>1513</td>\n",
              "      <td>1510</td>\n",
              "      <td>1519</td>\n",
              "      <td>575</td>\n",
              "      <td>575</td>\n",
              "      <td>575</td>\n",
              "      <td>1514</td>\n",
              "      <td>...</td>\n",
              "      <td>154</td>\n",
              "      <td>1519</td>\n",
              "      <td>1519</td>\n",
              "      <td>1519</td>\n",
              "      <td>1519</td>\n",
              "      <td>1519</td>\n",
              "      <td>1519</td>\n",
              "      <td>1519</td>\n",
              "      <td>1519</td>\n",
              "      <td>1519</td>\n",
              "      <td>1519</td>\n",
              "      <td>1519</td>\n",
              "      <td>1519</td>\n",
              "      <td>1519</td>\n",
              "      <td>1519</td>\n",
              "      <td>1519</td>\n",
              "      <td>1519</td>\n",
              "      <td>1519</td>\n",
              "      <td>1519</td>\n",
              "      <td>1519</td>\n",
              "      <td>1519</td>\n",
              "      <td>1519</td>\n",
              "      <td>1519</td>\n",
              "      <td>1519</td>\n",
              "      <td>1519</td>\n",
              "      <td>1519</td>\n",
              "      <td>1519</td>\n",
              "      <td>1519</td>\n",
              "      <td>1519</td>\n",
              "      <td>1519</td>\n",
              "      <td>1519</td>\n",
              "      <td>1519</td>\n",
              "      <td>1519</td>\n",
              "      <td>1519</td>\n",
              "      <td>1519</td>\n",
              "      <td>1519</td>\n",
              "      <td>1519</td>\n",
              "      <td>1519</td>\n",
              "      <td>1519</td>\n",
              "      <td>1519</td>\n",
              "    </tr>\n",
              "    <tr>\n",
              "      <th>2</th>\n",
              "      <td>1603</td>\n",
              "      <td>1603</td>\n",
              "      <td>1603</td>\n",
              "      <td>1603</td>\n",
              "      <td>1603</td>\n",
              "      <td>1601</td>\n",
              "      <td>1603</td>\n",
              "      <td>1603</td>\n",
              "      <td>1603</td>\n",
              "      <td>1603</td>\n",
              "      <td>1603</td>\n",
              "      <td>118</td>\n",
              "      <td>1603</td>\n",
              "      <td>1603</td>\n",
              "      <td>1603</td>\n",
              "      <td>385</td>\n",
              "      <td>1603</td>\n",
              "      <td>1603</td>\n",
              "      <td>1134</td>\n",
              "      <td>1122</td>\n",
              "      <td>1603</td>\n",
              "      <td>1603</td>\n",
              "      <td>1603</td>\n",
              "      <td>1603</td>\n",
              "      <td>152</td>\n",
              "      <td>1603</td>\n",
              "      <td>1602</td>\n",
              "      <td>1586</td>\n",
              "      <td>1333</td>\n",
              "      <td>1174</td>\n",
              "      <td>880</td>\n",
              "      <td>468</td>\n",
              "      <td>1603</td>\n",
              "      <td>1601</td>\n",
              "      <td>1603</td>\n",
              "      <td>1603</td>\n",
              "      <td>603</td>\n",
              "      <td>603</td>\n",
              "      <td>603</td>\n",
              "      <td>1589</td>\n",
              "      <td>...</td>\n",
              "      <td>141</td>\n",
              "      <td>1603</td>\n",
              "      <td>1603</td>\n",
              "      <td>1603</td>\n",
              "      <td>1603</td>\n",
              "      <td>1603</td>\n",
              "      <td>1603</td>\n",
              "      <td>1603</td>\n",
              "      <td>1603</td>\n",
              "      <td>1603</td>\n",
              "      <td>1603</td>\n",
              "      <td>1603</td>\n",
              "      <td>1603</td>\n",
              "      <td>1603</td>\n",
              "      <td>1603</td>\n",
              "      <td>1603</td>\n",
              "      <td>1603</td>\n",
              "      <td>1603</td>\n",
              "      <td>1603</td>\n",
              "      <td>1603</td>\n",
              "      <td>1603</td>\n",
              "      <td>1603</td>\n",
              "      <td>1603</td>\n",
              "      <td>1603</td>\n",
              "      <td>1603</td>\n",
              "      <td>1603</td>\n",
              "      <td>1603</td>\n",
              "      <td>1603</td>\n",
              "      <td>1603</td>\n",
              "      <td>1603</td>\n",
              "      <td>1603</td>\n",
              "      <td>1603</td>\n",
              "      <td>1603</td>\n",
              "      <td>1603</td>\n",
              "      <td>1603</td>\n",
              "      <td>1603</td>\n",
              "      <td>1603</td>\n",
              "      <td>1603</td>\n",
              "      <td>1603</td>\n",
              "      <td>1603</td>\n",
              "    </tr>\n",
              "    <tr>\n",
              "      <th>3</th>\n",
              "      <td>828</td>\n",
              "      <td>828</td>\n",
              "      <td>828</td>\n",
              "      <td>828</td>\n",
              "      <td>828</td>\n",
              "      <td>827</td>\n",
              "      <td>828</td>\n",
              "      <td>828</td>\n",
              "      <td>828</td>\n",
              "      <td>828</td>\n",
              "      <td>828</td>\n",
              "      <td>85</td>\n",
              "      <td>828</td>\n",
              "      <td>828</td>\n",
              "      <td>828</td>\n",
              "      <td>230</td>\n",
              "      <td>828</td>\n",
              "      <td>828</td>\n",
              "      <td>589</td>\n",
              "      <td>566</td>\n",
              "      <td>828</td>\n",
              "      <td>828</td>\n",
              "      <td>828</td>\n",
              "      <td>828</td>\n",
              "      <td>67</td>\n",
              "      <td>828</td>\n",
              "      <td>825</td>\n",
              "      <td>818</td>\n",
              "      <td>616</td>\n",
              "      <td>515</td>\n",
              "      <td>390</td>\n",
              "      <td>193</td>\n",
              "      <td>828</td>\n",
              "      <td>828</td>\n",
              "      <td>828</td>\n",
              "      <td>828</td>\n",
              "      <td>301</td>\n",
              "      <td>301</td>\n",
              "      <td>301</td>\n",
              "      <td>821</td>\n",
              "      <td>...</td>\n",
              "      <td>56</td>\n",
              "      <td>828</td>\n",
              "      <td>828</td>\n",
              "      <td>828</td>\n",
              "      <td>828</td>\n",
              "      <td>828</td>\n",
              "      <td>828</td>\n",
              "      <td>828</td>\n",
              "      <td>828</td>\n",
              "      <td>828</td>\n",
              "      <td>828</td>\n",
              "      <td>828</td>\n",
              "      <td>828</td>\n",
              "      <td>828</td>\n",
              "      <td>828</td>\n",
              "      <td>828</td>\n",
              "      <td>828</td>\n",
              "      <td>828</td>\n",
              "      <td>828</td>\n",
              "      <td>828</td>\n",
              "      <td>828</td>\n",
              "      <td>828</td>\n",
              "      <td>828</td>\n",
              "      <td>828</td>\n",
              "      <td>828</td>\n",
              "      <td>828</td>\n",
              "      <td>828</td>\n",
              "      <td>828</td>\n",
              "      <td>828</td>\n",
              "      <td>828</td>\n",
              "      <td>828</td>\n",
              "      <td>828</td>\n",
              "      <td>828</td>\n",
              "      <td>828</td>\n",
              "      <td>828</td>\n",
              "      <td>828</td>\n",
              "      <td>828</td>\n",
              "      <td>828</td>\n",
              "      <td>828</td>\n",
              "      <td>828</td>\n",
              "    </tr>\n",
              "    <tr>\n",
              "      <th>4</th>\n",
              "      <td>309</td>\n",
              "      <td>309</td>\n",
              "      <td>309</td>\n",
              "      <td>309</td>\n",
              "      <td>309</td>\n",
              "      <td>308</td>\n",
              "      <td>309</td>\n",
              "      <td>309</td>\n",
              "      <td>309</td>\n",
              "      <td>309</td>\n",
              "      <td>309</td>\n",
              "      <td>38</td>\n",
              "      <td>309</td>\n",
              "      <td>309</td>\n",
              "      <td>309</td>\n",
              "      <td>101</td>\n",
              "      <td>309</td>\n",
              "      <td>309</td>\n",
              "      <td>183</td>\n",
              "      <td>183</td>\n",
              "      <td>309</td>\n",
              "      <td>309</td>\n",
              "      <td>309</td>\n",
              "      <td>309</td>\n",
              "      <td>22</td>\n",
              "      <td>309</td>\n",
              "      <td>308</td>\n",
              "      <td>305</td>\n",
              "      <td>219</td>\n",
              "      <td>172</td>\n",
              "      <td>115</td>\n",
              "      <td>48</td>\n",
              "      <td>309</td>\n",
              "      <td>309</td>\n",
              "      <td>309</td>\n",
              "      <td>309</td>\n",
              "      <td>130</td>\n",
              "      <td>130</td>\n",
              "      <td>130</td>\n",
              "      <td>301</td>\n",
              "      <td>...</td>\n",
              "      <td>25</td>\n",
              "      <td>309</td>\n",
              "      <td>309</td>\n",
              "      <td>309</td>\n",
              "      <td>309</td>\n",
              "      <td>309</td>\n",
              "      <td>309</td>\n",
              "      <td>309</td>\n",
              "      <td>309</td>\n",
              "      <td>309</td>\n",
              "      <td>309</td>\n",
              "      <td>309</td>\n",
              "      <td>309</td>\n",
              "      <td>309</td>\n",
              "      <td>309</td>\n",
              "      <td>309</td>\n",
              "      <td>309</td>\n",
              "      <td>309</td>\n",
              "      <td>309</td>\n",
              "      <td>309</td>\n",
              "      <td>309</td>\n",
              "      <td>309</td>\n",
              "      <td>309</td>\n",
              "      <td>309</td>\n",
              "      <td>309</td>\n",
              "      <td>309</td>\n",
              "      <td>309</td>\n",
              "      <td>309</td>\n",
              "      <td>309</td>\n",
              "      <td>309</td>\n",
              "      <td>309</td>\n",
              "      <td>309</td>\n",
              "      <td>309</td>\n",
              "      <td>309</td>\n",
              "      <td>309</td>\n",
              "      <td>309</td>\n",
              "      <td>309</td>\n",
              "      <td>309</td>\n",
              "      <td>309</td>\n",
              "      <td>309</td>\n",
              "    </tr>\n",
              "    <tr>\n",
              "      <th>5</th>\n",
              "      <td>95</td>\n",
              "      <td>95</td>\n",
              "      <td>95</td>\n",
              "      <td>95</td>\n",
              "      <td>95</td>\n",
              "      <td>95</td>\n",
              "      <td>95</td>\n",
              "      <td>95</td>\n",
              "      <td>95</td>\n",
              "      <td>95</td>\n",
              "      <td>95</td>\n",
              "      <td>15</td>\n",
              "      <td>95</td>\n",
              "      <td>95</td>\n",
              "      <td>95</td>\n",
              "      <td>32</td>\n",
              "      <td>95</td>\n",
              "      <td>95</td>\n",
              "      <td>55</td>\n",
              "      <td>50</td>\n",
              "      <td>95</td>\n",
              "      <td>95</td>\n",
              "      <td>95</td>\n",
              "      <td>95</td>\n",
              "      <td>4</td>\n",
              "      <td>95</td>\n",
              "      <td>93</td>\n",
              "      <td>92</td>\n",
              "      <td>53</td>\n",
              "      <td>42</td>\n",
              "      <td>24</td>\n",
              "      <td>10</td>\n",
              "      <td>95</td>\n",
              "      <td>95</td>\n",
              "      <td>95</td>\n",
              "      <td>95</td>\n",
              "      <td>38</td>\n",
              "      <td>38</td>\n",
              "      <td>38</td>\n",
              "      <td>93</td>\n",
              "      <td>...</td>\n",
              "      <td>6</td>\n",
              "      <td>95</td>\n",
              "      <td>95</td>\n",
              "      <td>95</td>\n",
              "      <td>95</td>\n",
              "      <td>95</td>\n",
              "      <td>95</td>\n",
              "      <td>95</td>\n",
              "      <td>95</td>\n",
              "      <td>95</td>\n",
              "      <td>95</td>\n",
              "      <td>95</td>\n",
              "      <td>95</td>\n",
              "      <td>95</td>\n",
              "      <td>95</td>\n",
              "      <td>95</td>\n",
              "      <td>95</td>\n",
              "      <td>95</td>\n",
              "      <td>95</td>\n",
              "      <td>95</td>\n",
              "      <td>95</td>\n",
              "      <td>95</td>\n",
              "      <td>95</td>\n",
              "      <td>95</td>\n",
              "      <td>95</td>\n",
              "      <td>95</td>\n",
              "      <td>95</td>\n",
              "      <td>95</td>\n",
              "      <td>95</td>\n",
              "      <td>95</td>\n",
              "      <td>95</td>\n",
              "      <td>95</td>\n",
              "      <td>95</td>\n",
              "      <td>95</td>\n",
              "      <td>95</td>\n",
              "      <td>95</td>\n",
              "      <td>95</td>\n",
              "      <td>95</td>\n",
              "      <td>95</td>\n",
              "      <td>95</td>\n",
              "    </tr>\n",
              "    <tr>\n",
              "      <th>6</th>\n",
              "      <td>29</td>\n",
              "      <td>29</td>\n",
              "      <td>29</td>\n",
              "      <td>29</td>\n",
              "      <td>29</td>\n",
              "      <td>29</td>\n",
              "      <td>29</td>\n",
              "      <td>29</td>\n",
              "      <td>29</td>\n",
              "      <td>29</td>\n",
              "      <td>29</td>\n",
              "      <td>1</td>\n",
              "      <td>29</td>\n",
              "      <td>29</td>\n",
              "      <td>29</td>\n",
              "      <td>10</td>\n",
              "      <td>29</td>\n",
              "      <td>29</td>\n",
              "      <td>15</td>\n",
              "      <td>12</td>\n",
              "      <td>29</td>\n",
              "      <td>29</td>\n",
              "      <td>29</td>\n",
              "      <td>29</td>\n",
              "      <td>3</td>\n",
              "      <td>29</td>\n",
              "      <td>29</td>\n",
              "      <td>27</td>\n",
              "      <td>12</td>\n",
              "      <td>8</td>\n",
              "      <td>5</td>\n",
              "      <td>2</td>\n",
              "      <td>29</td>\n",
              "      <td>29</td>\n",
              "      <td>29</td>\n",
              "      <td>29</td>\n",
              "      <td>13</td>\n",
              "      <td>13</td>\n",
              "      <td>13</td>\n",
              "      <td>28</td>\n",
              "      <td>...</td>\n",
              "      <td>0</td>\n",
              "      <td>29</td>\n",
              "      <td>29</td>\n",
              "      <td>29</td>\n",
              "      <td>29</td>\n",
              "      <td>29</td>\n",
              "      <td>29</td>\n",
              "      <td>29</td>\n",
              "      <td>29</td>\n",
              "      <td>29</td>\n",
              "      <td>29</td>\n",
              "      <td>29</td>\n",
              "      <td>29</td>\n",
              "      <td>29</td>\n",
              "      <td>29</td>\n",
              "      <td>29</td>\n",
              "      <td>29</td>\n",
              "      <td>29</td>\n",
              "      <td>29</td>\n",
              "      <td>29</td>\n",
              "      <td>29</td>\n",
              "      <td>29</td>\n",
              "      <td>29</td>\n",
              "      <td>29</td>\n",
              "      <td>29</td>\n",
              "      <td>29</td>\n",
              "      <td>29</td>\n",
              "      <td>29</td>\n",
              "      <td>29</td>\n",
              "      <td>29</td>\n",
              "      <td>29</td>\n",
              "      <td>29</td>\n",
              "      <td>29</td>\n",
              "      <td>29</td>\n",
              "      <td>29</td>\n",
              "      <td>29</td>\n",
              "      <td>29</td>\n",
              "      <td>29</td>\n",
              "      <td>29</td>\n",
              "      <td>29</td>\n",
              "    </tr>\n",
              "    <tr>\n",
              "      <th>7</th>\n",
              "      <td>15</td>\n",
              "      <td>15</td>\n",
              "      <td>15</td>\n",
              "      <td>15</td>\n",
              "      <td>15</td>\n",
              "      <td>15</td>\n",
              "      <td>15</td>\n",
              "      <td>15</td>\n",
              "      <td>15</td>\n",
              "      <td>15</td>\n",
              "      <td>15</td>\n",
              "      <td>3</td>\n",
              "      <td>15</td>\n",
              "      <td>15</td>\n",
              "      <td>15</td>\n",
              "      <td>5</td>\n",
              "      <td>15</td>\n",
              "      <td>15</td>\n",
              "      <td>10</td>\n",
              "      <td>10</td>\n",
              "      <td>15</td>\n",
              "      <td>15</td>\n",
              "      <td>15</td>\n",
              "      <td>15</td>\n",
              "      <td>0</td>\n",
              "      <td>15</td>\n",
              "      <td>14</td>\n",
              "      <td>14</td>\n",
              "      <td>6</td>\n",
              "      <td>4</td>\n",
              "      <td>2</td>\n",
              "      <td>2</td>\n",
              "      <td>15</td>\n",
              "      <td>15</td>\n",
              "      <td>15</td>\n",
              "      <td>15</td>\n",
              "      <td>4</td>\n",
              "      <td>4</td>\n",
              "      <td>4</td>\n",
              "      <td>15</td>\n",
              "      <td>...</td>\n",
              "      <td>0</td>\n",
              "      <td>15</td>\n",
              "      <td>15</td>\n",
              "      <td>15</td>\n",
              "      <td>15</td>\n",
              "      <td>15</td>\n",
              "      <td>15</td>\n",
              "      <td>15</td>\n",
              "      <td>15</td>\n",
              "      <td>15</td>\n",
              "      <td>15</td>\n",
              "      <td>15</td>\n",
              "      <td>15</td>\n",
              "      <td>15</td>\n",
              "      <td>15</td>\n",
              "      <td>15</td>\n",
              "      <td>15</td>\n",
              "      <td>15</td>\n",
              "      <td>15</td>\n",
              "      <td>15</td>\n",
              "      <td>15</td>\n",
              "      <td>15</td>\n",
              "      <td>15</td>\n",
              "      <td>15</td>\n",
              "      <td>15</td>\n",
              "      <td>15</td>\n",
              "      <td>15</td>\n",
              "      <td>15</td>\n",
              "      <td>15</td>\n",
              "      <td>15</td>\n",
              "      <td>15</td>\n",
              "      <td>15</td>\n",
              "      <td>15</td>\n",
              "      <td>15</td>\n",
              "      <td>15</td>\n",
              "      <td>15</td>\n",
              "      <td>15</td>\n",
              "      <td>15</td>\n",
              "      <td>15</td>\n",
              "      <td>15</td>\n",
              "    </tr>\n",
              "    <tr>\n",
              "      <th>8</th>\n",
              "      <td>8</td>\n",
              "      <td>8</td>\n",
              "      <td>8</td>\n",
              "      <td>8</td>\n",
              "      <td>8</td>\n",
              "      <td>8</td>\n",
              "      <td>8</td>\n",
              "      <td>8</td>\n",
              "      <td>8</td>\n",
              "      <td>8</td>\n",
              "      <td>8</td>\n",
              "      <td>4</td>\n",
              "      <td>8</td>\n",
              "      <td>8</td>\n",
              "      <td>8</td>\n",
              "      <td>0</td>\n",
              "      <td>8</td>\n",
              "      <td>8</td>\n",
              "      <td>5</td>\n",
              "      <td>2</td>\n",
              "      <td>8</td>\n",
              "      <td>8</td>\n",
              "      <td>8</td>\n",
              "      <td>8</td>\n",
              "      <td>2</td>\n",
              "      <td>8</td>\n",
              "      <td>8</td>\n",
              "      <td>8</td>\n",
              "      <td>6</td>\n",
              "      <td>6</td>\n",
              "      <td>1</td>\n",
              "      <td>1</td>\n",
              "      <td>8</td>\n",
              "      <td>8</td>\n",
              "      <td>8</td>\n",
              "      <td>8</td>\n",
              "      <td>5</td>\n",
              "      <td>5</td>\n",
              "      <td>5</td>\n",
              "      <td>8</td>\n",
              "      <td>...</td>\n",
              "      <td>0</td>\n",
              "      <td>8</td>\n",
              "      <td>8</td>\n",
              "      <td>8</td>\n",
              "      <td>8</td>\n",
              "      <td>8</td>\n",
              "      <td>8</td>\n",
              "      <td>8</td>\n",
              "      <td>8</td>\n",
              "      <td>8</td>\n",
              "      <td>8</td>\n",
              "      <td>8</td>\n",
              "      <td>8</td>\n",
              "      <td>8</td>\n",
              "      <td>8</td>\n",
              "      <td>8</td>\n",
              "      <td>8</td>\n",
              "      <td>8</td>\n",
              "      <td>8</td>\n",
              "      <td>8</td>\n",
              "      <td>8</td>\n",
              "      <td>8</td>\n",
              "      <td>8</td>\n",
              "      <td>8</td>\n",
              "      <td>8</td>\n",
              "      <td>8</td>\n",
              "      <td>8</td>\n",
              "      <td>8</td>\n",
              "      <td>8</td>\n",
              "      <td>8</td>\n",
              "      <td>8</td>\n",
              "      <td>8</td>\n",
              "      <td>8</td>\n",
              "      <td>8</td>\n",
              "      <td>8</td>\n",
              "      <td>8</td>\n",
              "      <td>8</td>\n",
              "      <td>8</td>\n",
              "      <td>8</td>\n",
              "      <td>8</td>\n",
              "    </tr>\n",
              "    <tr>\n",
              "      <th>9</th>\n",
              "      <td>2</td>\n",
              "      <td>2</td>\n",
              "      <td>2</td>\n",
              "      <td>2</td>\n",
              "      <td>2</td>\n",
              "      <td>2</td>\n",
              "      <td>2</td>\n",
              "      <td>2</td>\n",
              "      <td>2</td>\n",
              "      <td>2</td>\n",
              "      <td>2</td>\n",
              "      <td>1</td>\n",
              "      <td>2</td>\n",
              "      <td>2</td>\n",
              "      <td>2</td>\n",
              "      <td>1</td>\n",
              "      <td>2</td>\n",
              "      <td>2</td>\n",
              "      <td>1</td>\n",
              "      <td>1</td>\n",
              "      <td>2</td>\n",
              "      <td>2</td>\n",
              "      <td>2</td>\n",
              "      <td>2</td>\n",
              "      <td>0</td>\n",
              "      <td>2</td>\n",
              "      <td>2</td>\n",
              "      <td>2</td>\n",
              "      <td>0</td>\n",
              "      <td>0</td>\n",
              "      <td>0</td>\n",
              "      <td>0</td>\n",
              "      <td>2</td>\n",
              "      <td>2</td>\n",
              "      <td>2</td>\n",
              "      <td>2</td>\n",
              "      <td>1</td>\n",
              "      <td>1</td>\n",
              "      <td>1</td>\n",
              "      <td>2</td>\n",
              "      <td>...</td>\n",
              "      <td>0</td>\n",
              "      <td>2</td>\n",
              "      <td>2</td>\n",
              "      <td>2</td>\n",
              "      <td>2</td>\n",
              "      <td>2</td>\n",
              "      <td>2</td>\n",
              "      <td>2</td>\n",
              "      <td>2</td>\n",
              "      <td>2</td>\n",
              "      <td>2</td>\n",
              "      <td>2</td>\n",
              "      <td>2</td>\n",
              "      <td>2</td>\n",
              "      <td>2</td>\n",
              "      <td>2</td>\n",
              "      <td>2</td>\n",
              "      <td>2</td>\n",
              "      <td>2</td>\n",
              "      <td>2</td>\n",
              "      <td>2</td>\n",
              "      <td>2</td>\n",
              "      <td>2</td>\n",
              "      <td>2</td>\n",
              "      <td>2</td>\n",
              "      <td>2</td>\n",
              "      <td>2</td>\n",
              "      <td>2</td>\n",
              "      <td>2</td>\n",
              "      <td>2</td>\n",
              "      <td>2</td>\n",
              "      <td>2</td>\n",
              "      <td>2</td>\n",
              "      <td>2</td>\n",
              "      <td>2</td>\n",
              "      <td>2</td>\n",
              "      <td>2</td>\n",
              "      <td>2</td>\n",
              "      <td>2</td>\n",
              "      <td>2</td>\n",
              "    </tr>\n",
              "    <tr>\n",
              "      <th>10</th>\n",
              "      <td>3</td>\n",
              "      <td>3</td>\n",
              "      <td>3</td>\n",
              "      <td>3</td>\n",
              "      <td>3</td>\n",
              "      <td>3</td>\n",
              "      <td>3</td>\n",
              "      <td>3</td>\n",
              "      <td>3</td>\n",
              "      <td>3</td>\n",
              "      <td>3</td>\n",
              "      <td>0</td>\n",
              "      <td>3</td>\n",
              "      <td>3</td>\n",
              "      <td>3</td>\n",
              "      <td>1</td>\n",
              "      <td>3</td>\n",
              "      <td>3</td>\n",
              "      <td>2</td>\n",
              "      <td>3</td>\n",
              "      <td>3</td>\n",
              "      <td>3</td>\n",
              "      <td>3</td>\n",
              "      <td>3</td>\n",
              "      <td>0</td>\n",
              "      <td>3</td>\n",
              "      <td>3</td>\n",
              "      <td>3</td>\n",
              "      <td>1</td>\n",
              "      <td>1</td>\n",
              "      <td>0</td>\n",
              "      <td>0</td>\n",
              "      <td>3</td>\n",
              "      <td>3</td>\n",
              "      <td>3</td>\n",
              "      <td>3</td>\n",
              "      <td>2</td>\n",
              "      <td>2</td>\n",
              "      <td>2</td>\n",
              "      <td>3</td>\n",
              "      <td>...</td>\n",
              "      <td>0</td>\n",
              "      <td>3</td>\n",
              "      <td>3</td>\n",
              "      <td>3</td>\n",
              "      <td>3</td>\n",
              "      <td>3</td>\n",
              "      <td>3</td>\n",
              "      <td>3</td>\n",
              "      <td>3</td>\n",
              "      <td>3</td>\n",
              "      <td>3</td>\n",
              "      <td>3</td>\n",
              "      <td>3</td>\n",
              "      <td>3</td>\n",
              "      <td>3</td>\n",
              "      <td>3</td>\n",
              "      <td>3</td>\n",
              "      <td>3</td>\n",
              "      <td>3</td>\n",
              "      <td>3</td>\n",
              "      <td>3</td>\n",
              "      <td>3</td>\n",
              "      <td>3</td>\n",
              "      <td>3</td>\n",
              "      <td>3</td>\n",
              "      <td>3</td>\n",
              "      <td>3</td>\n",
              "      <td>3</td>\n",
              "      <td>3</td>\n",
              "      <td>3</td>\n",
              "      <td>3</td>\n",
              "      <td>3</td>\n",
              "      <td>3</td>\n",
              "      <td>3</td>\n",
              "      <td>3</td>\n",
              "      <td>3</td>\n",
              "      <td>3</td>\n",
              "      <td>3</td>\n",
              "      <td>3</td>\n",
              "      <td>3</td>\n",
              "    </tr>\n",
              "    <tr>\n",
              "      <th>16</th>\n",
              "      <td>1</td>\n",
              "      <td>1</td>\n",
              "      <td>1</td>\n",
              "      <td>1</td>\n",
              "      <td>1</td>\n",
              "      <td>1</td>\n",
              "      <td>1</td>\n",
              "      <td>1</td>\n",
              "      <td>1</td>\n",
              "      <td>1</td>\n",
              "      <td>1</td>\n",
              "      <td>1</td>\n",
              "      <td>1</td>\n",
              "      <td>1</td>\n",
              "      <td>1</td>\n",
              "      <td>0</td>\n",
              "      <td>1</td>\n",
              "      <td>1</td>\n",
              "      <td>1</td>\n",
              "      <td>1</td>\n",
              "      <td>1</td>\n",
              "      <td>1</td>\n",
              "      <td>1</td>\n",
              "      <td>1</td>\n",
              "      <td>0</td>\n",
              "      <td>1</td>\n",
              "      <td>1</td>\n",
              "      <td>1</td>\n",
              "      <td>0</td>\n",
              "      <td>0</td>\n",
              "      <td>0</td>\n",
              "      <td>0</td>\n",
              "      <td>1</td>\n",
              "      <td>1</td>\n",
              "      <td>1</td>\n",
              "      <td>1</td>\n",
              "      <td>1</td>\n",
              "      <td>1</td>\n",
              "      <td>1</td>\n",
              "      <td>1</td>\n",
              "      <td>...</td>\n",
              "      <td>0</td>\n",
              "      <td>1</td>\n",
              "      <td>1</td>\n",
              "      <td>1</td>\n",
              "      <td>1</td>\n",
              "      <td>1</td>\n",
              "      <td>1</td>\n",
              "      <td>1</td>\n",
              "      <td>1</td>\n",
              "      <td>1</td>\n",
              "      <td>1</td>\n",
              "      <td>1</td>\n",
              "      <td>1</td>\n",
              "      <td>1</td>\n",
              "      <td>1</td>\n",
              "      <td>1</td>\n",
              "      <td>1</td>\n",
              "      <td>1</td>\n",
              "      <td>1</td>\n",
              "      <td>1</td>\n",
              "      <td>1</td>\n",
              "      <td>1</td>\n",
              "      <td>1</td>\n",
              "      <td>1</td>\n",
              "      <td>1</td>\n",
              "      <td>1</td>\n",
              "      <td>1</td>\n",
              "      <td>1</td>\n",
              "      <td>1</td>\n",
              "      <td>1</td>\n",
              "      <td>1</td>\n",
              "      <td>1</td>\n",
              "      <td>1</td>\n",
              "      <td>1</td>\n",
              "      <td>1</td>\n",
              "      <td>1</td>\n",
              "      <td>1</td>\n",
              "      <td>1</td>\n",
              "      <td>1</td>\n",
              "      <td>1</td>\n",
              "    </tr>\n",
              "    <tr>\n",
              "      <th>22</th>\n",
              "      <td>1</td>\n",
              "      <td>1</td>\n",
              "      <td>1</td>\n",
              "      <td>1</td>\n",
              "      <td>1</td>\n",
              "      <td>1</td>\n",
              "      <td>1</td>\n",
              "      <td>1</td>\n",
              "      <td>1</td>\n",
              "      <td>1</td>\n",
              "      <td>1</td>\n",
              "      <td>0</td>\n",
              "      <td>1</td>\n",
              "      <td>1</td>\n",
              "      <td>1</td>\n",
              "      <td>1</td>\n",
              "      <td>1</td>\n",
              "      <td>1</td>\n",
              "      <td>0</td>\n",
              "      <td>0</td>\n",
              "      <td>1</td>\n",
              "      <td>1</td>\n",
              "      <td>1</td>\n",
              "      <td>1</td>\n",
              "      <td>0</td>\n",
              "      <td>1</td>\n",
              "      <td>1</td>\n",
              "      <td>1</td>\n",
              "      <td>1</td>\n",
              "      <td>0</td>\n",
              "      <td>1</td>\n",
              "      <td>0</td>\n",
              "      <td>1</td>\n",
              "      <td>1</td>\n",
              "      <td>1</td>\n",
              "      <td>1</td>\n",
              "      <td>1</td>\n",
              "      <td>1</td>\n",
              "      <td>1</td>\n",
              "      <td>1</td>\n",
              "      <td>...</td>\n",
              "      <td>0</td>\n",
              "      <td>1</td>\n",
              "      <td>1</td>\n",
              "      <td>1</td>\n",
              "      <td>1</td>\n",
              "      <td>1</td>\n",
              "      <td>1</td>\n",
              "      <td>1</td>\n",
              "      <td>1</td>\n",
              "      <td>1</td>\n",
              "      <td>1</td>\n",
              "      <td>1</td>\n",
              "      <td>1</td>\n",
              "      <td>1</td>\n",
              "      <td>1</td>\n",
              "      <td>1</td>\n",
              "      <td>1</td>\n",
              "      <td>1</td>\n",
              "      <td>1</td>\n",
              "      <td>1</td>\n",
              "      <td>1</td>\n",
              "      <td>1</td>\n",
              "      <td>1</td>\n",
              "      <td>1</td>\n",
              "      <td>1</td>\n",
              "      <td>1</td>\n",
              "      <td>1</td>\n",
              "      <td>1</td>\n",
              "      <td>1</td>\n",
              "      <td>1</td>\n",
              "      <td>1</td>\n",
              "      <td>1</td>\n",
              "      <td>1</td>\n",
              "      <td>1</td>\n",
              "      <td>1</td>\n",
              "      <td>1</td>\n",
              "      <td>1</td>\n",
              "      <td>1</td>\n",
              "      <td>1</td>\n",
              "      <td>1</td>\n",
              "    </tr>\n",
              "  </tbody>\n",
              "</table>\n",
              "<p>13 rows × 3086 columns</p>\n",
              "</div>\n",
              "      <button class=\"colab-df-convert\" onclick=\"convertToInteractive('df-c2c221b6-cc20-4d43-a1ce-25cdf63bd27b')\"\n",
              "              title=\"Convert this dataframe to an interactive table.\"\n",
              "              style=\"display:none;\">\n",
              "        \n",
              "  <svg xmlns=\"http://www.w3.org/2000/svg\" height=\"24px\"viewBox=\"0 0 24 24\"\n",
              "       width=\"24px\">\n",
              "    <path d=\"M0 0h24v24H0V0z\" fill=\"none\"/>\n",
              "    <path d=\"M18.56 5.44l.94 2.06.94-2.06 2.06-.94-2.06-.94-.94-2.06-.94 2.06-2.06.94zm-11 1L8.5 8.5l.94-2.06 2.06-.94-2.06-.94L8.5 2.5l-.94 2.06-2.06.94zm10 10l.94 2.06.94-2.06 2.06-.94-2.06-.94-.94-2.06-.94 2.06-2.06.94z\"/><path d=\"M17.41 7.96l-1.37-1.37c-.4-.4-.92-.59-1.43-.59-.52 0-1.04.2-1.43.59L10.3 9.45l-7.72 7.72c-.78.78-.78 2.05 0 2.83L4 21.41c.39.39.9.59 1.41.59.51 0 1.02-.2 1.41-.59l7.78-7.78 2.81-2.81c.8-.78.8-2.07 0-2.86zM5.41 20L4 18.59l7.72-7.72 1.47 1.35L5.41 20z\"/>\n",
              "  </svg>\n",
              "      </button>\n",
              "      \n",
              "  <style>\n",
              "    .colab-df-container {\n",
              "      display:flex;\n",
              "      flex-wrap:wrap;\n",
              "      gap: 12px;\n",
              "    }\n",
              "\n",
              "    .colab-df-convert {\n",
              "      background-color: #E8F0FE;\n",
              "      border: none;\n",
              "      border-radius: 50%;\n",
              "      cursor: pointer;\n",
              "      display: none;\n",
              "      fill: #1967D2;\n",
              "      height: 32px;\n",
              "      padding: 0 0 0 0;\n",
              "      width: 32px;\n",
              "    }\n",
              "\n",
              "    .colab-df-convert:hover {\n",
              "      background-color: #E2EBFA;\n",
              "      box-shadow: 0px 1px 2px rgba(60, 64, 67, 0.3), 0px 1px 3px 1px rgba(60, 64, 67, 0.15);\n",
              "      fill: #174EA6;\n",
              "    }\n",
              "\n",
              "    [theme=dark] .colab-df-convert {\n",
              "      background-color: #3B4455;\n",
              "      fill: #D2E3FC;\n",
              "    }\n",
              "\n",
              "    [theme=dark] .colab-df-convert:hover {\n",
              "      background-color: #434B5C;\n",
              "      box-shadow: 0px 1px 3px 1px rgba(0, 0, 0, 0.15);\n",
              "      filter: drop-shadow(0px 1px 2px rgba(0, 0, 0, 0.3));\n",
              "      fill: #FFFFFF;\n",
              "    }\n",
              "  </style>\n",
              "\n",
              "      <script>\n",
              "        const buttonEl =\n",
              "          document.querySelector('#df-c2c221b6-cc20-4d43-a1ce-25cdf63bd27b button.colab-df-convert');\n",
              "        buttonEl.style.display =\n",
              "          google.colab.kernel.accessAllowed ? 'block' : 'none';\n",
              "\n",
              "        async function convertToInteractive(key) {\n",
              "          const element = document.querySelector('#df-c2c221b6-cc20-4d43-a1ce-25cdf63bd27b');\n",
              "          const dataTable =\n",
              "            await google.colab.kernel.invokeFunction('convertToInteractive',\n",
              "                                                     [key], {});\n",
              "          if (!dataTable) return;\n",
              "\n",
              "          const docLinkHtml = 'Like what you see? Visit the ' +\n",
              "            '<a target=\"_blank\" href=https://colab.research.google.com/notebooks/data_table.ipynb>data table notebook</a>'\n",
              "            + ' to learn more about interactive tables.';\n",
              "          element.innerHTML = '';\n",
              "          dataTable['output_type'] = 'display_data';\n",
              "          await google.colab.output.renderOutput(dataTable, element);\n",
              "          const docLink = document.createElement('div');\n",
              "          docLink.innerHTML = docLinkHtml;\n",
              "          element.appendChild(docLink);\n",
              "        }\n",
              "      </script>\n",
              "    </div>\n",
              "  </div>\n",
              "  "
            ],
            "text/plain": [
              "        caseid  rscrinf  rdormres  ...  cmlstyr  screentime  intvlngth\n",
              "parity                             ...                                \n",
              "0         3230     3230      3230  ...     3230        3230       3230\n",
              "1         1519     1519      1519  ...     1519        1519       1519\n",
              "2         1603     1603      1603  ...     1603        1603       1603\n",
              "3          828      828       828  ...      828         828        828\n",
              "4          309      309       309  ...      309         309        309\n",
              "5           95       95        95  ...       95          95         95\n",
              "6           29       29        29  ...       29          29         29\n",
              "7           15       15        15  ...       15          15         15\n",
              "8            8        8         8  ...        8           8          8\n",
              "9            2        2         2  ...        2           2          2\n",
              "10           3        3         3  ...        3           3          3\n",
              "16           1        1         1  ...        1           1          1\n",
              "22           1        1         1  ...        1           1          1\n",
              "\n",
              "[13 rows x 3086 columns]"
            ]
          },
          "metadata": {},
          "execution_count": 11
        }
      ]
    },
    {
      "cell_type": "code",
      "source": [
        "resp.groupby(\"parity\").count()[\"caseid\"]"
      ],
      "metadata": {
        "colab": {
          "base_uri": "https://localhost:8080/"
        },
        "id": "rckfjptx96t5",
        "outputId": "5d7916f1-a767-48a4-e4b1-d85e6dfe84b9"
      },
      "execution_count": 12,
      "outputs": [
        {
          "output_type": "execute_result",
          "data": {
            "text/plain": [
              "parity\n",
              "0     3230\n",
              "1     1519\n",
              "2     1603\n",
              "3      828\n",
              "4      309\n",
              "5       95\n",
              "6       29\n",
              "7       15\n",
              "8        8\n",
              "9        2\n",
              "10       3\n",
              "16       1\n",
              "22       1\n",
              "Name: caseid, dtype: int64"
            ]
          },
          "metadata": {},
          "execution_count": 12
        }
      ]
    },
    {
      "cell_type": "code",
      "source": [
        "#최종 outlier\n",
        "resp.groupby(\"parity\").count()[\"caseid\"].sort_index(ascending=False)[0:5]\n",
        "#자식 수가 22...?? 데이터 오류의 일종인듯. "
      ],
      "metadata": {
        "colab": {
          "base_uri": "https://localhost:8080/"
        },
        "id": "7fRIScxg-Nd9",
        "outputId": "34580787-9ecc-4172-d0d4-b86a4a496259"
      },
      "execution_count": 13,
      "outputs": [
        {
          "output_type": "execute_result",
          "data": {
            "text/plain": [
              "parity\n",
              "22    1\n",
              "16    1\n",
              "10    3\n",
              "9     2\n",
              "8     8\n",
              "Name: caseid, dtype: int64"
            ]
          },
          "metadata": {},
          "execution_count": 13
        }
      ]
    },
    {
      "cell_type": "markdown",
      "source": [
        "✈가설검증 : 소득이 높은 사람이 더 아이를 많이 나을까?\n"
      ],
      "metadata": {
        "id": "t32XuOx3_Y_a"
      }
    },
    {
      "cell_type": "code",
      "source": [
        "#totincr level이 14 이상인 집단의 parity분석\n",
        "resp[resp.totincr >= 14][\"parity\"].plot.hist(rwidth=0.8, bins = range(int(resp[\"parity\"].min()), int(resp[\"parity\"].max()+2)))\n",
        "plt.xlabel(\"Number of children\")\n",
        "plt.ylabel(\"Frequency\")\n",
        "plt.show()\n",
        "plt.close()"
      ],
      "metadata": {
        "colab": {
          "base_uri": "https://localhost:8080/",
          "height": 279
        },
        "id": "LkFnF-Cy-Vxk",
        "outputId": "d9174ced-4146-404f-a81b-49aa050630d9"
      },
      "execution_count": 14,
      "outputs": [
        {
          "output_type": "display_data",
          "data": {
            "image/png": "[encoded data removed]",
            "text/plain": [
              "<Figure size 432x288 with 1 Axes>"
            ]
          },
          "metadata": {
            "needs_background": "light"
          }
        }
      ]
    },
    {
      "cell_type": "code",
      "source": [
        "#totincr level이 14 이하인 집단의 parity분석\n",
        "resp[resp.totincr < 14][\"parity\"].plot.hist(rwidth=0.8, bins = range(int(resp[\"parity\"].min()), int(resp[\"parity\"].max()+2)))\n",
        "plt.xlabel(\"Number of children\")\n",
        "plt.ylabel(\"Frequency\")\n",
        "plt.show()\n",
        "plt.close()"
      ],
      "metadata": {
        "colab": {
          "base_uri": "https://localhost:8080/",
          "height": 279
        },
        "id": "1uwAj6PJrbAm",
        "outputId": "7493d24e-277a-47a8-873d-3ad7a3b197fe"
      },
      "execution_count": 17,
      "outputs": [
        {
          "output_type": "display_data",
          "data": {
            "image/png": "[encoded data removed]",
            "text/plain": [
              "<Figure size 432x288 with 1 Axes>"
            ]
          },
          "metadata": {
            "needs_background": "light"
          }
        }
      ]
    },
    {
      "cell_type": "markdown",
      "source": [
        "고소득 답변자 중 가장 아이를 많이 낳은 경우 확인\n",
        "\n"
      ],
      "metadata": {
        "id": "JysTKBETIHkm"
      }
    },
    {
      "cell_type": "code",
      "source": [
        "#1차로 totincr로 고소득 답변자의 데이터로 가공한다.\n",
        "#parity값을 기준으로 그룹화&카운트를 하고 caseid 인덱스 값들을 역순으로 정렬하여 최초값 5개를 빼낸다\n",
        "resp[resp[\"totincr\"] >= 14].groupby(\"parity\").count()[\"caseid\"].sort_index(ascending=False)[:5]"
      ],
      "metadata": {
        "colab": {
          "base_uri": "https://localhost:8080/"
        },
        "id": "_ta5IHqLHt8G",
        "outputId": "a82a2175-6aef-482a-d422-bb40d30e24f8"
      },
      "execution_count": 15,
      "outputs": [
        {
          "output_type": "execute_result",
          "data": {
            "text/plain": [
              "parity\n",
              "8      1\n",
              "7      1\n",
              "5      5\n",
              "4     19\n",
              "3    123\n",
              "Name: caseid, dtype: int64"
            ]
          },
          "metadata": {},
          "execution_count": 15
        }
      ]
    },
    {
      "cell_type": "markdown",
      "source": [
        "저소득 답변자 중 가장 아이를 많이 낳은 경우 확인"
      ],
      "metadata": {
        "id": "BI5FuvMKrVzG"
      }
    },
    {
      "cell_type": "code",
      "source": [
        "resp[resp[\"totincr\"] < 14].groupby(\"parity\").count()[\"caseid\"].sort_index(ascending=False)[:5]"
      ],
      "metadata": {
        "colab": {
          "base_uri": "https://localhost:8080/"
        },
        "id": "fkyKm0iJH7ES",
        "outputId": "7c741384-59fd-45d2-8211-0ccf2246f5dd"
      },
      "execution_count": 16,
      "outputs": [
        {
          "output_type": "execute_result",
          "data": {
            "text/plain": [
              "parity\n",
              "22    1\n",
              "16    1\n",
              "10    3\n",
              "9     2\n",
              "8     7\n",
              "Name: caseid, dtype: int64"
            ]
          },
          "metadata": {},
          "execution_count": 16
        }
      ]
    },
    {
      "cell_type": "markdown",
      "source": [
        "두 집단의 parity 평균 비교"
      ],
      "metadata": {
        "id": "uMn4oE1rrs9Z"
      }
    },
    {
      "cell_type": "code",
      "source": [
        "higher = resp[resp[\"totincr\"] >= 14]\n",
        "other  = resp[resp[\"totincr\"] < 14]\n",
        "higher.parity.mean(), other.parity.mean()"
      ],
      "metadata": {
        "id": "irCl3eLEJYtk",
        "colab": {
          "base_uri": "https://localhost:8080/"
        },
        "outputId": "60b5d964-7dfa-4389-f5f4-119df8471a5d"
      },
      "execution_count": 18,
      "outputs": [
        {
          "output_type": "execute_result",
          "data": {
            "text/plain": [
              "(1.0758620689655172, 1.2495758136665125)"
            ]
          },
          "metadata": {},
          "execution_count": 18
        }
      ]
    },
    {
      "cell_type": "code",
      "source": [
        "CohenEffectSize(higher.parity, other.parity)"
      ],
      "metadata": {
        "colab": {
          "base_uri": "https://localhost:8080/"
        },
        "id": "agJNQEmUr9lX",
        "outputId": "ee5375d7-8017-4281-b332-b7a7a464548f"
      },
      "execution_count": 19,
      "outputs": [
        {
          "output_type": "execute_result",
          "data": {
            "text/plain": [
              "-0.1251185531466061"
            ]
          },
          "metadata": {},
          "execution_count": 19
        }
      ]
    },
    {
      "cell_type": "markdown",
      "source": [
        "✔ 즉, 고소득층이 아이를 더 많이 낳는다고 볼 수 없으며 오히려 저소득층이 조금 더 아이를 더 많이 낳는 경향이 있다."
      ],
      "metadata": {
        "id": "WpCOehmUsH2R"
      }
    },
    {
      "cell_type": "code",
      "source": [
        ""
      ],
      "metadata": {
        "id": "sAlW4lLRsF2u"
      },
      "execution_count": null,
      "outputs": []
    }
  ]
}