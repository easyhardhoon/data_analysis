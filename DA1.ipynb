{
  "nbformat": 4,
  "nbformat_minor": 0,
  "metadata": {
    "colab": {
      "name": "DA1.ipynb",
      "provenance": [],
      "collapsed_sections": [],
      "authorship_tag": "ABX9TyOTBhjlocEZOfa9ENpu1cQ9",
      "include_colab_link": true
    },
    "kernelspec": {
      "name": "python3",
      "display_name": "Python 3"
    },
    "language_info": {
      "name": "python"
    }
  },
  "cells": [
    {
      "cell_type": "markdown",
      "metadata": {
        "id": "view-in-github",
        "colab_type": "text"
      },
      "source": [
        "<a href=\"https://colab.research.google.com/github/easyhardhoon/data_analysis_with_stats/blob/main/DA1.ipynb\" target=\"_parent\"><img src=\"https://colab.research.google.com/assets/colab-badge.svg\" alt=\"Open In Colab\"/></a>"
      ]
    },
    {
      "cell_type": "markdown",
      "source": [
        "#DA(data_analysis)에서는\n",
        " \n",
        "통계학 지식을 기반으로 데이터 분석에 대해 공부합니다.\n",
        "\n",
        "python기반이고. 사용 라이브러리는 다음과 같습니다.\n",
        "   \n",
        "⏰pandas\n",
        "\n",
        "⏰numpy\n",
        "\n",
        "⏰matplotlib"
      ],
      "metadata": {
        "id": "HmK0knmXmBtq"
      }
    },
    {
      "cell_type": "markdown",
      "source": [
        "\n",
        "\n",
        "#python 기초 "
      ],
      "metadata": {
        "id": "HIl5R2Pynda_"
      }
    },
    {
      "cell_type": "markdown",
      "source": [
        "**1. end를 이용한 문장의 끝 문자 바꾸기**\n",
        "\n",
        "default는 개행문자 '\\n'입니다"
      ],
      "metadata": {
        "id": "huw2CDq_nlq-"
      }
    },
    {
      "cell_type": "code",
      "execution_count": null,
      "metadata": {
        "colab": {
          "base_uri": "https://localhost:8080/"
        },
        "id": "PcSn6PzOl6-l",
        "outputId": "d9710919-cce6-4425-8f65-14bf4426c10b"
      },
      "outputs": [
        {
          "output_type": "stream",
          "name": "stdout",
          "text": [
            "hi, hello\n"
          ]
        }
      ],
      "source": [
        "print(\"hi, \", end=\"\")\n",
        "print(\"hello\")"
      ]
    },
    {
      "cell_type": "markdown",
      "source": [
        "**2. 데이터 타입의 종류**"
      ],
      "metadata": {
        "id": "u3ky3pR6oRUL"
      }
    },
    {
      "cell_type": "code",
      "source": [
        "var1 = 100 #int\n",
        "var2 = 100.1 #float\n",
        "var3 = \"string\" #string\n",
        "var4 = [100,10] #list\n",
        "var5 = {1:100,2:200} #dictionary\n",
        "var6 = {100,200,300} #set"
      ],
      "metadata": {
        "id": "mZMaRLBEn1gg"
      },
      "execution_count": null,
      "outputs": []
    },
    {
      "cell_type": "markdown",
      "source": [
        "**3. list**"
      ],
      "metadata": {
        "id": "qL22K-_Ir7P1"
      }
    },
    {
      "cell_type": "code",
      "source": [
        "sample_list = ['A','B','C','A']\n",
        "sample_list.remove('A')\n",
        "sample_list\n",
        "#이렇게 되면 모든 A를 지우는게 아니라 맨 앞의 A만 지워집니다."
      ],
      "metadata": {
        "colab": {
          "base_uri": "https://localhost:8080/"
        },
        "id": "1VWea2Kpr_-V",
        "outputId": "980671e7-e833-4dbc-90ed-2bba199cdf53"
      },
      "execution_count": null,
      "outputs": [
        {
          "output_type": "execute_result",
          "data": {
            "text/plain": [
              "['B', 'C', 'A']"
            ]
          },
          "metadata": {},
          "execution_count": 13
        }
      ]
    },
    {
      "cell_type": "code",
      "source": [
        "sample_list.sort()\n",
        "sample_list"
      ],
      "metadata": {
        "colab": {
          "base_uri": "https://localhost:8080/"
        },
        "id": "WoAHalY7sQo1",
        "outputId": "8bad55b5-ffb2-4803-8b41-40c2d1e2b154"
      },
      "execution_count": null,
      "outputs": [
        {
          "output_type": "execute_result",
          "data": {
            "text/plain": [
              "['A', 'B', 'C']"
            ]
          },
          "metadata": {},
          "execution_count": 14
        }
      ]
    },
    {
      "cell_type": "code",
      "source": [
        "sample_list.sort(reverse=True)\n",
        "sample_list\n",
        "sample_list.reverse()\n",
        "sample_list"
      ],
      "metadata": {
        "colab": {
          "base_uri": "https://localhost:8080/"
        },
        "id": "9ec_dJP4sXoN",
        "outputId": "e7d9b19d-98b2-4ac3-b68f-6fa96402c406"
      },
      "execution_count": null,
      "outputs": [
        {
          "output_type": "execute_result",
          "data": {
            "text/plain": [
              "['A', 'B', 'C']"
            ]
          },
          "metadata": {},
          "execution_count": 15
        }
      ]
    },
    {
      "cell_type": "code",
      "source": [
        "class_list = [sample_list] *2 \n",
        "class_list"
      ],
      "metadata": {
        "colab": {
          "base_uri": "https://localhost:8080/"
        },
        "id": "XY_7CGzbsteq",
        "outputId": "cac25602-662f-49fd-cfb8-e02989d857a3"
      },
      "execution_count": null,
      "outputs": [
        {
          "output_type": "execute_result",
          "data": {
            "text/plain": [
              "[['A', 'B', 'C'], ['A', 'B', 'C']]"
            ]
          },
          "metadata": {},
          "execution_count": 16
        }
      ]
    },
    {
      "cell_type": "code",
      "source": [
        "class_list[0][1] = \"F\"\n",
        "class_list #[0][1] 과 [1][1]이 모두 sample_list라는 같은 주소를 가리키고 있기 \n",
        "#때문에 둘 다 바뀐 모습입니다. "
      ],
      "metadata": {
        "colab": {
          "base_uri": "https://localhost:8080/"
        },
        "id": "Npdo_CyPstTC",
        "outputId": "3e10cb24-7111-4647-c950-5936cc33606c"
      },
      "execution_count": null,
      "outputs": [
        {
          "output_type": "execute_result",
          "data": {
            "text/plain": [
              "[['A', 'F', 'C'], ['A', 'F', 'C']]"
            ]
          },
          "metadata": {},
          "execution_count": 17
        }
      ]
    },
    {
      "cell_type": "code",
      "source": [
        "s = ['a','b','c']\n",
        "l = s*2\n",
        "l[0] = 'f'\n",
        "l\n",
        "#이렇게 1차원 리스트에서는 상식대로 정해진 인덱스 값만 바뀐 모습입니다."
      ],
      "metadata": {
        "colab": {
          "base_uri": "https://localhost:8080/"
        },
        "id": "mpc-gKG3ssv1",
        "outputId": "46e6197b-acc8-4a89-8e66-3d4e62f7f0bf"
      },
      "execution_count": null,
      "outputs": [
        {
          "output_type": "execute_result",
          "data": {
            "text/plain": [
              "['f', 'b', 'c', 'a', 'b', 'c']"
            ]
          },
          "metadata": {},
          "execution_count": 21
        }
      ]
    },
    {
      "cell_type": "markdown",
      "source": [
        "**4. Tuple, set, dictionary**\n",
        "\n",
        "tuple : list와 달리 한번 정의된 값은 바꿀 수 없다\n",
        "\n",
        "set : 순서가 없는 자료형. value만 가지고 있다. \n",
        "\n",
        "dict : 순서가 없는 자료형. key-value pair로 저장되어 key를 통해 value를 조회할 수 있다."
      ],
      "metadata": {
        "id": "3uxUE8nHvwwJ"
      }
    },
    {
      "cell_type": "code",
      "source": [
        "ex_set = {\"A\",\"B\",\"C\",\"A\"}\n",
        "ex_set\n",
        "#set은 중복을 허용하지 않습니다."
      ],
      "metadata": {
        "colab": {
          "base_uri": "https://localhost:8080/"
        },
        "id": "8UGSea0MudS9",
        "outputId": "cee84dfb-9ffc-49a7-bdb5-593e207584f6"
      },
      "execution_count": null,
      "outputs": [
        {
          "output_type": "execute_result",
          "data": {
            "text/plain": [
              "{'A', 'B', 'C'}"
            ]
          },
          "metadata": {},
          "execution_count": 22
        }
      ]
    },
    {
      "cell_type": "code",
      "source": [
        "ex_dict = {\"A\": 1000, \"B\":500, \"C\":300}\n",
        "ex_dict[\"A\"] \n",
        "ex_dict.get(\"A\") # 바로 윗줄 코드와 같은 말입니다.\n",
        "#이렇게 dict에서 조회연산의 방법은 두가지가 있다.\n",
        "#dict의 key로 int,string,float,tuple다 가능하지만 list는 안된다"
      ],
      "metadata": {
        "colab": {
          "base_uri": "https://localhost:8080/"
        },
        "id": "UVbDV74jwqq9",
        "outputId": "f1eec18c-053b-48cb-aeca-f1e61fd7c061"
      },
      "execution_count": null,
      "outputs": [
        {
          "output_type": "execute_result",
          "data": {
            "text/plain": [
              "1000"
            ]
          },
          "metadata": {},
          "execution_count": 25
        }
      ]
    },
    {
      "cell_type": "markdown",
      "source": [
        "**5. string opertaions**"
      ],
      "metadata": {
        "id": "cIBzHC_Gx29W"
      }
    },
    {
      "cell_type": "code",
      "source": [
        "name = \"easyhardhoon\"\n",
        "print(name[:4]) #string은 list처럼 쓸 수 있다\n",
        "age = \"25\"\n",
        "job = \"student\"\n",
        "print(f\"my name is {name}, age is {age}. my job is {job}\") #fstring 지원. 가장 편리"
      ],
      "metadata": {
        "colab": {
          "base_uri": "https://localhost:8080/"
        },
        "id": "b78XG9Haw1_R",
        "outputId": "ea17981e-b638-4dba-df7b-43688d6f6905"
      },
      "execution_count": null,
      "outputs": [
        {
          "output_type": "stream",
          "name": "stdout",
          "text": [
            "easy\n",
            "my name is easyhardhoon, age is 25. my job is student\n"
          ]
        }
      ]
    },
    {
      "cell_type": "code",
      "source": [
        "example = \"my name is easyhardhoon\"\n",
        "print(example.capitalize())\n",
        "print(example.upper())\n",
        "print(example.find(\"name\")) #name의 시작인덱스, 즉 \"n\"의 인덱스 출력\n",
        "print(example.split())\n",
        "ex = \"        easy          hard\"\n",
        "print(ex.strip())"
      ],
      "metadata": {
        "colab": {
          "base_uri": "https://localhost:8080/"
        },
        "id": "TGHDXn3uywRC",
        "outputId": "6a0f71e2-98c3-4b53-d125-ca24c9e92816"
      },
      "execution_count": null,
      "outputs": [
        {
          "output_type": "stream",
          "name": "stdout",
          "text": [
            "My name is easyhardhoon\n",
            "MY NAME IS EASYHARDHOON\n",
            "3\n",
            "['my', 'name', 'is', 'easyhardhoon']\n",
            "easy          hard\n"
          ]
        }
      ]
    },
    {
      "cell_type": "markdown",
      "source": [
        "**6. class**"
      ],
      "metadata": {
        "id": "F2rMATUb1RF8"
      }
    },
    {
      "cell_type": "code",
      "source": [
        "class Student:\n",
        "  def __init__(self,name,age):\n",
        "    self.name = name\n",
        "    self.age = age\n",
        "  def get_age(self):\n",
        "    return self.age\n",
        "EZ = Student(\"easyhardhoon\",\"25\") \n",
        "#python의 클래스에서 객체(object)선언은 위와 같이 합니다.\n",
        "#__init__이 생성자의 역할을 한다고 생각하면 될듯 합니다.\n",
        "EZ.get_age()"
      ],
      "metadata": {
        "colab": {
          "base_uri": "https://localhost:8080/",
          "height": 35
        },
        "id": "m3r-Ix_y0gCa",
        "outputId": "3834b89e-dfbe-4713-c1be-b467d8599f87"
      },
      "execution_count": null,
      "outputs": [
        {
          "output_type": "execute_result",
          "data": {
            "application/vnd.google.colaboratory.intrinsic+json": {
              "type": "string"
            },
            "text/plain": [
              "'25'"
            ]
          },
          "metadata": {},
          "execution_count": 43
        }
      ]
    },
    {
      "cell_type": "code",
      "source": [
        "class UnionStudent(Student):\n",
        "  def __init__(self, name, age, step):\n",
        "    self.step = step\n",
        "    super(UnionStudent,self).__init__(name,age) #부모 클래스 초기화하는 코드입니다.\n",
        "    #super().__init__()와 동일합니다.\n",
        "    #아예 unionstudent의 init 매서드를 생략한다면 super 사용안해도 됩니다.\n",
        "  def get_step(self):\n",
        "    return self.step\n",
        "hoon = UnionStudent(\"hoon\",\"25\",\"4\")\n",
        "#hoon.get_step()\n",
        "hoon.get_age() #super를 해주지 않으면 부모 클래스 초기화가 이루어지지 않아 에러가 뜹니다."
      ],
      "metadata": {
        "colab": {
          "base_uri": "https://localhost:8080/",
          "height": 35
        },
        "id": "CQKoVayP2ZPr",
        "outputId": "85aa167f-98fc-4341-95f4-e4fac93ceb8d"
      },
      "execution_count": null,
      "outputs": [
        {
          "output_type": "execute_result",
          "data": {
            "application/vnd.google.colaboratory.intrinsic+json": {
              "type": "string"
            },
            "text/plain": [
              "'25'"
            ]
          },
          "metadata": {},
          "execution_count": 46
        }
      ]
    },
    {
      "cell_type": "markdown",
      "source": [
        "**7. inline opertations**"
      ],
      "metadata": {
        "id": "oSSTlAe-5N2p"
      }
    },
    {
      "cell_type": "code",
      "source": [
        "num_list = [1,2,3,4,5]\n",
        "str_list = str(num_list) #이렇게하면 한 개의 string이 된다\n",
        "str_list2 = [str(x) for x in num_list] # 이 방법이 원소하나하나가 str이 되는 올바른 코드입니다.\n",
        "str_list3 = [str(x) for x in num_list if x%2 ==0]\n",
        "str_list4 = [x if x%2 == 0 else x*2 for x in num_list]\n",
        "num_dict = {1:100,2:200,3:300}\n",
        "num_dict_filtered = {k:v for k,v in num_dict.items() if k%2==0}"
      ],
      "metadata": {
        "id": "59r6LiPD4BZ-"
      },
      "execution_count": null,
      "outputs": []
    },
    {
      "cell_type": "markdown",
      "source": [
        "⏰아래는 같은 계산을 리스트 내포가 아닌 lambda 함수로 구한 코드입니다"
      ],
      "metadata": {
        "id": "nWa5yusieaSw"
      }
    },
    {
      "cell_type": "code",
      "source": [
        "array = [1,2,3,4,5] #사실은 리스트지만 파이썬에서는 리스트를 그냥 배열로 이해해도 됩니다\n",
        "array = list(map(str,array)) \n",
        "#array = [str(x) for x in array] 바로 위의 코드와 동일한 코드입니다. \n",
        "array"
      ],
      "metadata": {
        "colab": {
          "base_uri": "https://localhost:8080/"
        },
        "id": "mlDzYmJUeELl",
        "outputId": "f771675c-3670-4615-dabe-5a6870d50b73"
      },
      "execution_count": 12,
      "outputs": [
        {
          "output_type": "execute_result",
          "data": {
            "text/plain": [
              "['1', '2', '3', '4', '5']"
            ]
          },
          "metadata": {},
          "execution_count": 12
        }
      ]
    },
    {
      "cell_type": "markdown",
      "source": [
        "**8. 리스트와 배열**\n",
        "\n",
        "python에서는 array를 지원하지 않는다. \n",
        "\n",
        "그래서 numpy를 사용함. **파이썬에서는 그냥 리스트를 array로 생각하는 것이 좋다.**\n",
        "\n"
      ],
      "metadata": {
        "id": "DLgPO0Kc67YJ"
      }
    },
    {
      "cell_type": "markdown",
      "source": [
        "⏰배열 : 인덱스를 가진다. **연속적인 메모리 공간**. 그래서 조회가 빠르고 cache hit 확률 크다\n",
        "\n",
        "⏰리스트 : 인덱스를 가지긴 하지만 몇 번째 데이터인가 정도를 의미한다\n",
        "\n",
        "(리스트의 아이템들의 메모리 주소가 연속적일 수도 있고 아닐 수도 있다)"
      ],
      "metadata": {
        "id": "qrTOIuJuAXeP"
      }
    },
    {
      "cell_type": "code",
      "source": [
        "import numpy as np\n",
        "a = np.array([[1,2],[3,4]]) #array\n",
        "b = [[1,2],[3,4]] #list(파이썬에서 리스트를 array로 인식하긴 합니다)\n",
        "print(a[1,1]) #인덱스로 값 불러오기 가능 (완전한 인덱스)\n",
        "print(b[1][1]) #인덱스를 가지긴함. 단순히 몇번째 데이터인가 정도를 의미.\n",
        "#완전한 의미의 인덱스는 아니다"
      ],
      "metadata": {
        "colab": {
          "base_uri": "https://localhost:8080/"
        },
        "id": "PGKgwV2v7fwA",
        "outputId": "beea4295-af4d-49c6-b169-22fcb15da8fc"
      },
      "execution_count": null,
      "outputs": [
        {
          "output_type": "stream",
          "name": "stdout",
          "text": [
            "4\n",
            "4\n"
          ]
        }
      ]
    },
    {
      "cell_type": "code",
      "source": [
        ""
      ],
      "metadata": {
        "id": "kc-2YN_fbi20"
      },
      "execution_count": null,
      "outputs": []
    }
  ]
}